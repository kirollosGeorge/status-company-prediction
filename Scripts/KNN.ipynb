{
 "cells": [
  {
   "cell_type": "code",
   "execution_count": 1,
   "id": "7080ad1a",
   "metadata": {
    "id": "7080ad1a",
    "scrolled": true
   },
   "outputs": [
    {
     "name": "stderr",
     "output_type": "stream",
     "text": [
      "C:\\Users\\Kerillos\\anaconda3\\envs\\gpu\\lib\\site-packages\\numpy\\_distributor_init.py:30: UserWarning: loaded more than 1 DLL from .libs:\n",
      "C:\\Users\\Kerillos\\anaconda3\\envs\\gpu\\lib\\site-packages\\numpy\\.libs\\libopenblas.EL2C6PLE4ZYW3ECEVIV3OXXGRN2NRFM2.gfortran-win_amd64.dll\n",
      "C:\\Users\\Kerillos\\anaconda3\\envs\\gpu\\lib\\site-packages\\numpy\\.libs\\libopenblas.xwydx2ikjw2nmtwsfyngfuwkqu3lytcz.gfortran-win_amd64.dll\n",
      "  warnings.warn(\"loaded more than 1 DLL from .libs:\"\n"
     ]
    }
   ],
   "source": [
    "import pandas as pd\n",
    "import numpy as np\n",
    "import warnings\n",
    "import matplotlib.pyplot as plt\n",
    "import seaborn as sns\n",
    "\n",
    "sns.set()\n",
    "warnings.filterwarnings('ignore')"
   ]
  },
  {
   "cell_type": "code",
   "execution_count": 6,
   "id": "e44febc5",
   "metadata": {},
   "outputs": [],
   "source": [
    "x = pd.read_csv('../final/Final_x_dataframe_before_scaler.csv')\n",
    "y = pd.read_csv('../final/Final_y_dataframe_before_scaler.csv')"
   ]
  },
  {
   "cell_type": "code",
   "execution_count": 7,
   "id": "fb645c19",
   "metadata": {},
   "outputs": [],
   "source": [
    "x.drop('Unnamed: 0',axis=1,inplace=True)\n",
    "y.drop('Unnamed: 0',axis=1,inplace=True)"
   ]
  },
  {
   "cell_type": "code",
   "execution_count": 8,
   "id": "c51bd5d3",
   "metadata": {
    "scrolled": true
   },
   "outputs": [
    {
     "data": {
      "text/plain": [
       "(59148, 44)"
      ]
     },
     "execution_count": 8,
     "metadata": {},
     "output_type": "execute_result"
    }
   ],
   "source": [
    "x.shape"
   ]
  },
  {
   "cell_type": "code",
   "execution_count": 9,
   "id": "937e2e2f",
   "metadata": {},
   "outputs": [
    {
     "data": {
      "text/plain": [
       "(59148, 1)"
      ]
     },
     "execution_count": 9,
     "metadata": {},
     "output_type": "execute_result"
    }
   ],
   "source": [
    "y.shape"
   ]
  },
  {
   "cell_type": "code",
   "execution_count": 124,
   "id": "e9dbc6e6",
   "metadata": {},
   "outputs": [],
   "source": [
    "from sklearn.metrics import mean_squared_error,confusion_matrix, accuracy_score, precision_score, recall_score,classification_report,mean_absolute_error,f1_score\n",
    "import itertools\n",
    "from sklearn.metrics import confusion_matrix\n",
    "def metric(y_test,y_pred,x_train,y_train,model):\n",
    "    test_acc = accuracy_score(y_test,y_pred)\n",
    "    train_acc = model.score(x_train,y_train)\n",
    "    precision=precision_score(y_test,y_pred,average='macro')\n",
    "    recall =recall_score(y_test,y_pred,average='macro')\n",
    "    mse = mean_squared_error(y_test,y_pred)\n",
    "    mae = mean_absolute_error(y_test,y_pred)\n",
    "    #F1_score = f1_score(y_test,y_pred,average='macro')\n",
    "    print('test accuracy score : ',test_acc,\"%\")\n",
    "    print('train accuracy score : ',train_acc,\"%\")\n",
    "    print('precision score : ',precision,\"%\")\n",
    "    print('recall score : ',recall,\"%\")\n",
    "    print('Mean Squared Error : ',mse,\"%\")\n",
    "    print('Mean Absolute Error : ',mae,\"%\")\n",
    "    print('F_1 score : ',f1_score,\"%\")\n",
    "    \n",
    "    print(\"classification report\")\n",
    "    print(classification_report(y_test,y_pred))\n",
    "    print(\"Confusion Matrix\")\n",
    "    conf_mat = confusion_matrix(y_test, y_pred)\n",
    "    np.set_printoptions(precision=2)\n",
    "    fig1 = plt.figure(figsize=(7,6))\n",
    "    plot_confusion_matrix(conf_mat, classes=y.value_counts().index.tolist(), title='Confusion matrix')\n",
    "    return test_acc,train_acc,precision,recall,mse,mae,f1_score(y_test,y_pred,average='macro')\n",
    "def plot_confusion_matrix(cm, classes,\n",
    "                          normalize=False,\n",
    "                          title='Confusion matrix',\n",
    "                          cmap=plt.cm.Reds):\n",
    "    plt.imshow(cm, interpolation='nearest', cmap=cmap)\n",
    "    plt.title(title)\n",
    "    plt.colorbar()\n",
    "    tick_marks = np.arange(len(classes))\n",
    "    plt.xticks(tick_marks, classes, rotation=45)\n",
    "    plt.yticks(tick_marks, classes)\n",
    "\n",
    "    if normalize:\n",
    "        cm = cm.astype('float') / cm.sum(axis=1)[:, np.newaxis]\n",
    "        cm = cm.round(2)\n",
    "        \n",
    "    else:\n",
    "        cm=cm\n",
    "        \n",
    "\n",
    "    \n",
    "\n",
    "    thresh = cm.max() / 2.\n",
    "    for i, j in itertools.product(range(cm.shape[0]), range(cm.shape[1])):\n",
    "        plt.text(j, i, cm[i, j],\n",
    "                 horizontalalignment=\"center\",\n",
    "                 color=\"white\" if cm[i, j] > thresh else \"black\")\n",
    "\n",
    "    plt.tight_layout()\n",
    "    plt.ylabel('True label')\n",
    "    plt.xlabel('Predicted label')"
   ]
  },
  {
   "cell_type": "code",
   "execution_count": 100,
   "id": "344275f4",
   "metadata": {},
   "outputs": [],
   "source": [
    "from sklearn.preprocessing import StandardScaler\n",
    "from sklearn.model_selection import train_test_split\n",
    "x_train ,x_test,y_train,y_test = train_test_split(x,y,stratify=y,test_size=0.2)\n",
    "scaler = StandardScaler()\n",
    "x_train = scaler.fit_transform(x_train)\n",
    "x_test = scaler.fit_transform(x_test)"
   ]
  },
  {
   "cell_type": "markdown",
   "id": "3264c245",
   "metadata": {},
   "source": [
    "### K-Nearest Neighbours"
   ]
  },
  {
   "cell_type": "code",
   "execution_count": 101,
   "id": "28c1fc43",
   "metadata": {},
   "outputs": [],
   "source": [
    "from sklearn.metrics import classification_report, confusion_matrix\n",
    "from sklearn.neighbors import KNeighborsClassifier"
   ]
  },
  {
   "cell_type": "markdown",
   "id": "7029d66a",
   "metadata": {},
   "source": [
    "#### Finding optimal k value"
   ]
  },
  {
   "cell_type": "code",
   "execution_count": 102,
   "id": "47ba18b9",
   "metadata": {},
   "outputs": [],
   "source": [
    "# For looping k values from 1 to 39\n",
    "error_rate = []\n",
    "for i in range(1,40):\n",
    "    knn = KNeighborsClassifier(n_neighbors = i)\n",
    "    knn.fit(x_train, y_train)\n",
    "    pred_i = knn.predict(x_test)\n",
    "    error_rate.append(np.mean(pred_i != y_test))"
   ]
  },
  {
   "cell_type": "code",
   "execution_count": 103,
   "id": "0a6d07ee",
   "metadata": {},
   "outputs": [
    {
     "data": {
      "text/plain": [
       "Text(0, 0.5, 'Error Rate')"
      ]
     },
     "execution_count": 103,
     "metadata": {},
     "output_type": "execute_result"
    },
    {
     "data": {
      "image/png": "[encoded data removed]",
      "text/plain": [
       "<Figure size 720x432 with 1 Axes>"
      ]
     },
     "metadata": {
      "needs_background": "light"
     },
     "output_type": "display_data"
    }
   ],
   "source": [
    "plt.figure(figsize=(10,6))\n",
    "plt.plot(range(1, 40),error_rate, color='blue', linestyle='dashed', marker='o',\n",
    "         markerfacecolor='red', markersize=10)\n",
    "plt.title('Error Rate vs. K Value')\n",
    "plt.xlabel('K')\n",
    "plt.ylabel('Error Rate')"
   ]
  },
  {
   "cell_type": "code",
   "execution_count": 126,
   "id": "905db6bf",
   "metadata": {},
   "outputs": [
    {
     "data": {
      "text/plain": [
       "array([0.95, 0.93, 0.92, 0.92, 0.92, 0.91, 0.9 , 0.9 , 0.9 , 0.89, 0.89,\n",
       "       0.89, 0.88, 0.88, 0.88, 0.88, 0.87, 0.87, 0.87, 0.87])"
      ]
     },
     "execution_count": 126,
     "metadata": {},
     "output_type": "execute_result"
    }
   ],
   "source": [
    "mean_acc = np.zeros(20)\n",
    "for i in range(1,21):\n",
    "      \n",
    "    knn = KNeighborsClassifier(n_neighbors = i).fit(x_train,y_train)\n",
    "    yhat= knn.predict(x_test)\n",
    "    mean_acc[i-1] = accuracy_score(y_test, yhat)\n",
    "\n",
    "mean_acc"
   ]
  },
  {
   "cell_type": "code",
   "execution_count": 127,
   "id": "97c3b7cd",
   "metadata": {
    "scrolled": false
   },
   "outputs": [
    {
     "data": {
      "image/png": "[encoded data removed]",
      "text/plain": [
       "<Figure size 720x432 with 1 Axes>"
      ]
     },
     "metadata": {
      "needs_background": "light"
     },
     "output_type": "display_data"
    }
   ],
   "source": [
    "loc = np.arange(1,21,step=1.0)\n",
    "plt.figure(figsize = (10, 6))\n",
    "plt.plot(range(1,21), mean_acc)\n",
    "plt.xticks(loc)\n",
    "plt.xlabel('Number of Neighbors ')\n",
    "plt.ylabel('Accuracy')\n",
    "plt.show()"
   ]
  },
  {
   "cell_type": "markdown",
   "id": "99342d90",
   "metadata": {},
   "source": [
    "#### Using 1 nearest neighbour"
   ]
  },
  {
   "cell_type": "code",
   "execution_count": 104,
   "id": "f5564ef6",
   "metadata": {},
   "outputs": [],
   "source": [
    "knn = KNeighborsClassifier(n_neighbors=1)\n",
    "knn.fit(x_train, y_train)\n",
    "knn_predictions = knn.predict(x_test)"
   ]
  },
  {
   "cell_type": "code",
   "execution_count": 105,
   "id": "7808842e",
   "metadata": {},
   "outputs": [
    {
     "name": "stdout",
     "output_type": "stream",
     "text": [
      "Classification Report:\n",
      "              precision    recall  f1-score   support\n",
      "\n",
      "   operating       0.98      0.98      0.98      2958\n",
      "    acquired       0.94      0.89      0.91      2958\n",
      "         ipo       0.98      0.98      0.98      2957\n",
      "      closed       0.89      0.94      0.92      2957\n",
      "\n",
      "    accuracy                           0.95     11830\n",
      "   macro avg       0.95      0.95      0.95     11830\n",
      "weighted avg       0.95      0.95      0.95     11830\n",
      "\n"
     ]
    }
   ],
   "source": [
    "print(\"Classification Report:\")\n",
    "print(classification_report(y_test, knn_predictions, target_names=target_names))"
   ]
  },
  {
   "cell_type": "code",
   "execution_count": 111,
   "id": "330178a2",
   "metadata": {
    "scrolled": false
   },
   "outputs": [
    {
     "name": "stdout",
     "output_type": "stream",
     "text": [
      "test accuracy score :  0.945984784446323 %\n",
      "train accuracy score :  1.0 %\n",
      "precision score :  0.9464699176735005 %\n",
      "recall score :  0.9459873695609574 %\n",
      "Mean Squared Error :  0.2157227387996619 %\n",
      "Mean Absolute Error :  0.10752324598478445 %\n",
      "F_1 score :  <function f1_score at 0x000002E9C67869D0> %\n",
      "classification report\n",
      "              precision    recall  f1-score   support\n",
      "\n",
      "           0       0.98      0.98      0.98      2958\n",
      "           1       0.94      0.89      0.91      2958\n",
      "           2       0.98      0.98      0.98      2957\n",
      "           3       0.89      0.94      0.92      2957\n",
      "\n",
      "    accuracy                           0.95     11830\n",
      "   macro avg       0.95      0.95      0.95     11830\n",
      "weighted avg       0.95      0.95      0.95     11830\n",
      "\n",
      "Confusion Matrix\n"
     ]
    },
    {
     "data": {
      "image/png": "[encoded data removed]",
      "text/plain": [
       "<Figure size 504x432 with 2 Axes>"
      ]
     },
     "metadata": {
      "needs_background": "light"
     },
     "output_type": "display_data"
    }
   ],
   "source": [
    "test_acc,train_acc,precision,recall,mse,maf,f1_score = metric(y_test,knn_predictions,x_train,y_train,knn)\n"
   ]
  },
  {
   "cell_type": "code",
   "execution_count": 112,
   "id": "9da46ca2",
   "metadata": {},
   "outputs": [],
   "source": [
    "from sklearn.model_selection import GridSearchCV"
   ]
  },
  {
   "cell_type": "code",
   "execution_count": 137,
   "id": "361a7b8c",
   "metadata": {},
   "outputs": [],
   "source": [
    "leaf_size = list(range(1,50))\n",
    "n_neighbors = [1,2]\n",
    "p=[1,2]\n",
    "\n",
    "hyperparameters = dict(leaf_size=leaf_size, n_neighbors=n_neighbors, p=p)\n",
    "\n",
    "clf = GridSearchCV(knn, hyperparameters, cv=3,n_jobs=-1)\n",
    "best_model = clf.fit(x_train,y_train)"
   ]
  },
  {
   "cell_type": "code",
   "execution_count": 138,
   "id": "47c70de3",
   "metadata": {},
   "outputs": [
    {
     "name": "stdout",
     "output_type": "stream",
     "text": [
      "Best leaf_size: 1\n",
      "Best p: 1\n",
      "Best n_neighbors: 1\n"
     ]
    }
   ],
   "source": [
    "print('Best leaf_size:', best_model.best_estimator_.get_params()['leaf_size'])\n",
    "print('Best p:', best_model.best_estimator_.get_params()['p'])\n",
    "print('Best n_neighbors:', best_model.best_estimator_.get_params()['n_neighbors'])"
   ]
  },
  {
   "cell_type": "code",
   "execution_count": 139,
   "id": "17066e61",
   "metadata": {},
   "outputs": [
    {
     "data": {
      "text/plain": [
       "{'leaf_size': 1, 'n_neighbors': 1, 'p': 1}"
      ]
     },
     "execution_count": 139,
     "metadata": {},
     "output_type": "execute_result"
    }
   ],
   "source": [
    "best_model.best_params_"
   ]
  },
  {
   "cell_type": "code",
   "execution_count": 140,
   "id": "cd5a9905",
   "metadata": {},
   "outputs": [
    {
     "data": {
      "text/html": [
       "<style>#sk-container-id-2 {color: black;background-color: white;}#sk-container-id-2 pre{padding: 0;}#sk-container-id-2 div.sk-toggleable {background-color: white;}#sk-container-id-2 label.sk-toggleable__label {cursor: pointer;display: block;width: 100%;margin-bottom: 0;padding: 0.3em;box-sizing: border-box;text-align: center;}#sk-container-id-2 label.sk-toggleable__label-arrow:before {content: \"▸\";float: left;margin-right: 0.25em;color: #696969;}#sk-container-id-2 label.sk-toggleable__label-arrow:hover:before {color: black;}#sk-container-id-2 div.sk-estimator:hover label.sk-toggleable__label-arrow:before {color: black;}#sk-container-id-2 div.sk-toggleable__content {max-height: 0;max-width: 0;overflow: hidden;text-align: left;background-color: #f0f8ff;}#sk-container-id-2 div.sk-toggleable__content pre {margin: 0.2em;color: black;border-radius: 0.25em;background-color: #f0f8ff;}#sk-container-id-2 input.sk-toggleable__control:checked~div.sk-toggleable__content {max-height: 200px;max-width: 100%;overflow: auto;}#sk-container-id-2 input.sk-toggleable__control:checked~label.sk-toggleable__label-arrow:before {content: \"▾\";}#sk-container-id-2 div.sk-estimator input.sk-toggleable__control:checked~label.sk-toggleable__label {background-color: #d4ebff;}#sk-container-id-2 div.sk-label input.sk-toggleable__control:checked~label.sk-toggleable__label {background-color: #d4ebff;}#sk-container-id-2 input.sk-hidden--visually {border: 0;clip: rect(1px 1px 1px 1px);clip: rect(1px, 1px, 1px, 1px);height: 1px;margin: -1px;overflow: hidden;padding: 0;position: absolute;width: 1px;}#sk-container-id-2 div.sk-estimator {font-family: monospace;background-color: #f0f8ff;border: 1px dotted black;border-radius: 0.25em;box-sizing: border-box;margin-bottom: 0.5em;}#sk-container-id-2 div.sk-estimator:hover {background-color: #d4ebff;}#sk-container-id-2 div.sk-parallel-item::after {content: \"\";width: 100%;border-bottom: 1px solid gray;flex-grow: 1;}#sk-container-id-2 div.sk-label:hover label.sk-toggleable__label {background-color: #d4ebff;}#sk-container-id-2 div.sk-serial::before {content: \"\";position: absolute;border-left: 1px solid gray;box-sizing: border-box;top: 0;bottom: 0;left: 50%;z-index: 0;}#sk-container-id-2 div.sk-serial {display: flex;flex-direction: column;align-items: center;background-color: white;padding-right: 0.2em;padding-left: 0.2em;position: relative;}#sk-container-id-2 div.sk-item {position: relative;z-index: 1;}#sk-container-id-2 div.sk-parallel {display: flex;align-items: stretch;justify-content: center;background-color: white;position: relative;}#sk-container-id-2 div.sk-item::before, #sk-container-id-2 div.sk-parallel-item::before {content: \"\";position: absolute;border-left: 1px solid gray;box-sizing: border-box;top: 0;bottom: 0;left: 50%;z-index: -1;}#sk-container-id-2 div.sk-parallel-item {display: flex;flex-direction: column;z-index: 1;position: relative;background-color: white;}#sk-container-id-2 div.sk-parallel-item:first-child::after {align-self: flex-end;width: 50%;}#sk-container-id-2 div.sk-parallel-item:last-child::after {align-self: flex-start;width: 50%;}#sk-container-id-2 div.sk-parallel-item:only-child::after {width: 0;}#sk-container-id-2 div.sk-dashed-wrapped {border: 1px dashed gray;margin: 0 0.4em 0.5em 0.4em;box-sizing: border-box;padding-bottom: 0.4em;background-color: white;}#sk-container-id-2 div.sk-label label {font-family: monospace;font-weight: bold;display: inline-block;line-height: 1.2em;}#sk-container-id-2 div.sk-label-container {text-align: center;}#sk-container-id-2 div.sk-container {/* jupyter's `normalize.less` sets `[hidden] { display: none; }` but bootstrap.min.css set `[hidden] { display: none !important; }` so we also need the `!important` here to be able to override the default hidden behavior on the sphinx rendered scikit-learn.org. See: https://github.com/scikit-learn/scikit-learn/issues/21755 */display: inline-block !important;position: relative;}#sk-container-id-2 div.sk-text-repr-fallback {display: none;}</style><div id=\"sk-container-id-2\" class=\"sk-top-container\"><div class=\"sk-text-repr-fallback\"><pre>KNeighborsClassifier(leaf_size=1, n_neighbors=1, p=1)</pre><b>In a Jupyter environment, please rerun this cell to show the HTML representation or trust the notebook. <br />On GitHub, the HTML representation is unable to render, please try loading this page with nbviewer.org.</b></div><div class=\"sk-container\" hidden><div class=\"sk-item\"><div class=\"sk-estimator sk-toggleable\"><input class=\"sk-toggleable__control sk-hidden--visually\" id=\"sk-estimator-id-2\" type=\"checkbox\" checked><label for=\"sk-estimator-id-2\" class=\"sk-toggleable__label sk-toggleable__label-arrow\">KNeighborsClassifier</label><div class=\"sk-toggleable__content\"><pre>KNeighborsClassifier(leaf_size=1, n_neighbors=1, p=1)</pre></div></div></div></div></div>"
      ],
      "text/plain": [
       "KNeighborsClassifier(leaf_size=1, n_neighbors=1, p=1)"
      ]
     },
     "execution_count": 140,
     "metadata": {},
     "output_type": "execute_result"
    }
   ],
   "source": [
    "Grid_best_model = KNeighborsClassifier(leaf_size=1,n_neighbors=1,p=1)\n",
    "Grid_best_model"
   ]
  },
  {
   "cell_type": "code",
   "execution_count": 144,
   "id": "e83474dd",
   "metadata": {},
   "outputs": [
    {
     "data": {
      "text/html": [
       "<style>#sk-container-id-3 {color: black;background-color: white;}#sk-container-id-3 pre{padding: 0;}#sk-container-id-3 div.sk-toggleable {background-color: white;}#sk-container-id-3 label.sk-toggleable__label {cursor: pointer;display: block;width: 100%;margin-bottom: 0;padding: 0.3em;box-sizing: border-box;text-align: center;}#sk-container-id-3 label.sk-toggleable__label-arrow:before {content: \"▸\";float: left;margin-right: 0.25em;color: #696969;}#sk-container-id-3 label.sk-toggleable__label-arrow:hover:before {color: black;}#sk-container-id-3 div.sk-estimator:hover label.sk-toggleable__label-arrow:before {color: black;}#sk-container-id-3 div.sk-toggleable__content {max-height: 0;max-width: 0;overflow: hidden;text-align: left;background-color: #f0f8ff;}#sk-container-id-3 div.sk-toggleable__content pre {margin: 0.2em;color: black;border-radius: 0.25em;background-color: #f0f8ff;}#sk-container-id-3 input.sk-toggleable__control:checked~div.sk-toggleable__content {max-height: 200px;max-width: 100%;overflow: auto;}#sk-container-id-3 input.sk-toggleable__control:checked~label.sk-toggleable__label-arrow:before {content: \"▾\";}#sk-container-id-3 div.sk-estimator input.sk-toggleable__control:checked~label.sk-toggleable__label {background-color: #d4ebff;}#sk-container-id-3 div.sk-label input.sk-toggleable__control:checked~label.sk-toggleable__label {background-color: #d4ebff;}#sk-container-id-3 input.sk-hidden--visually {border: 0;clip: rect(1px 1px 1px 1px);clip: rect(1px, 1px, 1px, 1px);height: 1px;margin: -1px;overflow: hidden;padding: 0;position: absolute;width: 1px;}#sk-container-id-3 div.sk-estimator {font-family: monospace;background-color: #f0f8ff;border: 1px dotted black;border-radius: 0.25em;box-sizing: border-box;margin-bottom: 0.5em;}#sk-container-id-3 div.sk-estimator:hover {background-color: #d4ebff;}#sk-container-id-3 div.sk-parallel-item::after {content: \"\";width: 100%;border-bottom: 1px solid gray;flex-grow: 1;}#sk-container-id-3 div.sk-label:hover label.sk-toggleable__label {background-color: #d4ebff;}#sk-container-id-3 div.sk-serial::before {content: \"\";position: absolute;border-left: 1px solid gray;box-sizing: border-box;top: 0;bottom: 0;left: 50%;z-index: 0;}#sk-container-id-3 div.sk-serial {display: flex;flex-direction: column;align-items: center;background-color: white;padding-right: 0.2em;padding-left: 0.2em;position: relative;}#sk-container-id-3 div.sk-item {position: relative;z-index: 1;}#sk-container-id-3 div.sk-parallel {display: flex;align-items: stretch;justify-content: center;background-color: white;position: relative;}#sk-container-id-3 div.sk-item::before, #sk-container-id-3 div.sk-parallel-item::before {content: \"\";position: absolute;border-left: 1px solid gray;box-sizing: border-box;top: 0;bottom: 0;left: 50%;z-index: -1;}#sk-container-id-3 div.sk-parallel-item {display: flex;flex-direction: column;z-index: 1;position: relative;background-color: white;}#sk-container-id-3 div.sk-parallel-item:first-child::after {align-self: flex-end;width: 50%;}#sk-container-id-3 div.sk-parallel-item:last-child::after {align-self: flex-start;width: 50%;}#sk-container-id-3 div.sk-parallel-item:only-child::after {width: 0;}#sk-container-id-3 div.sk-dashed-wrapped {border: 1px dashed gray;margin: 0 0.4em 0.5em 0.4em;box-sizing: border-box;padding-bottom: 0.4em;background-color: white;}#sk-container-id-3 div.sk-label label {font-family: monospace;font-weight: bold;display: inline-block;line-height: 1.2em;}#sk-container-id-3 div.sk-label-container {text-align: center;}#sk-container-id-3 div.sk-container {/* jupyter's `normalize.less` sets `[hidden] { display: none; }` but bootstrap.min.css set `[hidden] { display: none !important; }` so we also need the `!important` here to be able to override the default hidden behavior on the sphinx rendered scikit-learn.org. See: https://github.com/scikit-learn/scikit-learn/issues/21755 */display: inline-block !important;position: relative;}#sk-container-id-3 div.sk-text-repr-fallback {display: none;}</style><div id=\"sk-container-id-3\" class=\"sk-top-container\"><div class=\"sk-text-repr-fallback\"><pre>KNeighborsClassifier(leaf_size=1, n_neighbors=1, p=1)</pre><b>In a Jupyter environment, please rerun this cell to show the HTML representation or trust the notebook. <br />On GitHub, the HTML representation is unable to render, please try loading this page with nbviewer.org.</b></div><div class=\"sk-container\" hidden><div class=\"sk-item\"><div class=\"sk-estimator sk-toggleable\"><input class=\"sk-toggleable__control sk-hidden--visually\" id=\"sk-estimator-id-3\" type=\"checkbox\" checked><label for=\"sk-estimator-id-3\" class=\"sk-toggleable__label sk-toggleable__label-arrow\">KNeighborsClassifier</label><div class=\"sk-toggleable__content\"><pre>KNeighborsClassifier(leaf_size=1, n_neighbors=1, p=1)</pre></div></div></div></div></div>"
      ],
      "text/plain": [
       "KNeighborsClassifier(leaf_size=1, n_neighbors=1, p=1)"
      ]
     },
     "execution_count": 144,
     "metadata": {},
     "output_type": "execute_result"
    }
   ],
   "source": [
    "Grid_best_model.fit(x_train,y_train)"
   ]
  },
  {
   "cell_type": "code",
   "execution_count": 141,
   "id": "c915ce52",
   "metadata": {
    "scrolled": false
   },
   "outputs": [
    {
     "data": {
      "text/html": [
       "<div>\n",
       "<style scoped>\n",
       "    .dataframe tbody tr th:only-of-type {\n",
       "        vertical-align: middle;\n",
       "    }\n",
       "\n",
       "    .dataframe tbody tr th {\n",
       "        vertical-align: top;\n",
       "    }\n",
       "\n",
       "    .dataframe thead th {\n",
       "        text-align: right;\n",
       "    }\n",
       "</style>\n",
       "<table border=\"1\" class=\"dataframe\">\n",
       "  <thead>\n",
       "    <tr style=\"text-align: right;\">\n",
       "      <th></th>\n",
       "      <th>mean_fit_time</th>\n",
       "      <th>std_fit_time</th>\n",
       "      <th>mean_score_time</th>\n",
       "      <th>std_score_time</th>\n",
       "      <th>param_leaf_size</th>\n",
       "      <th>param_n_neighbors</th>\n",
       "      <th>param_p</th>\n",
       "      <th>params</th>\n",
       "      <th>split0_test_score</th>\n",
       "      <th>split1_test_score</th>\n",
       "      <th>split2_test_score</th>\n",
       "      <th>mean_test_score</th>\n",
       "      <th>std_test_score</th>\n",
       "      <th>rank_test_score</th>\n",
       "    </tr>\n",
       "  </thead>\n",
       "  <tbody>\n",
       "    <tr>\n",
       "      <th>0</th>\n",
       "      <td>0.043963</td>\n",
       "      <td>2.407694e-03</td>\n",
       "      <td>38.622739</td>\n",
       "      <td>0.273434</td>\n",
       "      <td>1</td>\n",
       "      <td>1</td>\n",
       "      <td>1</td>\n",
       "      <td>{'leaf_size': 1, 'n_neighbors': 1, 'p': 1}</td>\n",
       "      <td>0.933050</td>\n",
       "      <td>0.932036</td>\n",
       "      <td>0.933363</td>\n",
       "      <td>0.932816</td>\n",
       "      <td>0.000566</td>\n",
       "      <td>1</td>\n",
       "    </tr>\n",
       "    <tr>\n",
       "      <th>1</th>\n",
       "      <td>0.030330</td>\n",
       "      <td>3.612187e-03</td>\n",
       "      <td>6.291733</td>\n",
       "      <td>0.082125</td>\n",
       "      <td>1</td>\n",
       "      <td>1</td>\n",
       "      <td>2</td>\n",
       "      <td>{'leaf_size': 1, 'n_neighbors': 1, 'p': 2}</td>\n",
       "      <td>0.930324</td>\n",
       "      <td>0.927978</td>\n",
       "      <td>0.931334</td>\n",
       "      <td>0.929879</td>\n",
       "      <td>0.001406</td>\n",
       "      <td>50</td>\n",
       "    </tr>\n",
       "    <tr>\n",
       "      <th>2</th>\n",
       "      <td>0.032908</td>\n",
       "      <td>1.394589e-03</td>\n",
       "      <td>40.465817</td>\n",
       "      <td>1.534260</td>\n",
       "      <td>1</td>\n",
       "      <td>2</td>\n",
       "      <td>1</td>\n",
       "      <td>{'leaf_size': 1, 'n_neighbors': 2, 'p': 1}</td>\n",
       "      <td>0.925062</td>\n",
       "      <td>0.922779</td>\n",
       "      <td>0.921506</td>\n",
       "      <td>0.923116</td>\n",
       "      <td>0.001471</td>\n",
       "      <td>99</td>\n",
       "    </tr>\n",
       "    <tr>\n",
       "      <th>3</th>\n",
       "      <td>0.031708</td>\n",
       "      <td>4.155635e-04</td>\n",
       "      <td>7.605750</td>\n",
       "      <td>0.300992</td>\n",
       "      <td>1</td>\n",
       "      <td>2</td>\n",
       "      <td>2</td>\n",
       "      <td>{'leaf_size': 1, 'n_neighbors': 2, 'p': 2}</td>\n",
       "      <td>0.919609</td>\n",
       "      <td>0.914854</td>\n",
       "      <td>0.916307</td>\n",
       "      <td>0.916924</td>\n",
       "      <td>0.001990</td>\n",
       "      <td>148</td>\n",
       "    </tr>\n",
       "    <tr>\n",
       "      <th>4</th>\n",
       "      <td>0.056848</td>\n",
       "      <td>1.389101e-02</td>\n",
       "      <td>41.062613</td>\n",
       "      <td>0.672075</td>\n",
       "      <td>2</td>\n",
       "      <td>1</td>\n",
       "      <td>1</td>\n",
       "      <td>{'leaf_size': 2, 'n_neighbors': 1, 'p': 1}</td>\n",
       "      <td>0.933050</td>\n",
       "      <td>0.932036</td>\n",
       "      <td>0.933363</td>\n",
       "      <td>0.932816</td>\n",
       "      <td>0.000566</td>\n",
       "      <td>1</td>\n",
       "    </tr>\n",
       "    <tr>\n",
       "      <th>...</th>\n",
       "      <td>...</td>\n",
       "      <td>...</td>\n",
       "      <td>...</td>\n",
       "      <td>...</td>\n",
       "      <td>...</td>\n",
       "      <td>...</td>\n",
       "      <td>...</td>\n",
       "      <td>...</td>\n",
       "      <td>...</td>\n",
       "      <td>...</td>\n",
       "      <td>...</td>\n",
       "      <td>...</td>\n",
       "      <td>...</td>\n",
       "      <td>...</td>\n",
       "    </tr>\n",
       "    <tr>\n",
       "      <th>191</th>\n",
       "      <td>0.028922</td>\n",
       "      <td>4.899036e-07</td>\n",
       "      <td>4.059015</td>\n",
       "      <td>0.019229</td>\n",
       "      <td>48</td>\n",
       "      <td>2</td>\n",
       "      <td>2</td>\n",
       "      <td>{'leaf_size': 48, 'n_neighbors': 2, 'p': 2}</td>\n",
       "      <td>0.919609</td>\n",
       "      <td>0.914854</td>\n",
       "      <td>0.916307</td>\n",
       "      <td>0.916924</td>\n",
       "      <td>0.001990</td>\n",
       "      <td>148</td>\n",
       "    </tr>\n",
       "    <tr>\n",
       "      <th>192</th>\n",
       "      <td>0.029254</td>\n",
       "      <td>4.699655e-04</td>\n",
       "      <td>25.680059</td>\n",
       "      <td>0.447979</td>\n",
       "      <td>49</td>\n",
       "      <td>1</td>\n",
       "      <td>1</td>\n",
       "      <td>{'leaf_size': 49, 'n_neighbors': 1, 'p': 1}</td>\n",
       "      <td>0.933050</td>\n",
       "      <td>0.932036</td>\n",
       "      <td>0.933363</td>\n",
       "      <td>0.932816</td>\n",
       "      <td>0.000566</td>\n",
       "      <td>1</td>\n",
       "    </tr>\n",
       "    <tr>\n",
       "      <th>193</th>\n",
       "      <td>0.030585</td>\n",
       "      <td>2.350783e-03</td>\n",
       "      <td>4.088066</td>\n",
       "      <td>0.058907</td>\n",
       "      <td>49</td>\n",
       "      <td>1</td>\n",
       "      <td>2</td>\n",
       "      <td>{'leaf_size': 49, 'n_neighbors': 1, 'p': 2}</td>\n",
       "      <td>0.930324</td>\n",
       "      <td>0.927978</td>\n",
       "      <td>0.931334</td>\n",
       "      <td>0.929879</td>\n",
       "      <td>0.001406</td>\n",
       "      <td>50</td>\n",
       "    </tr>\n",
       "    <tr>\n",
       "      <th>194</th>\n",
       "      <td>0.029255</td>\n",
       "      <td>4.701341e-04</td>\n",
       "      <td>23.420421</td>\n",
       "      <td>0.214299</td>\n",
       "      <td>49</td>\n",
       "      <td>2</td>\n",
       "      <td>1</td>\n",
       "      <td>{'leaf_size': 49, 'n_neighbors': 2, 'p': 1}</td>\n",
       "      <td>0.925062</td>\n",
       "      <td>0.922779</td>\n",
       "      <td>0.921506</td>\n",
       "      <td>0.923116</td>\n",
       "      <td>0.001471</td>\n",
       "      <td>99</td>\n",
       "    </tr>\n",
       "    <tr>\n",
       "      <th>195</th>\n",
       "      <td>0.040226</td>\n",
       "      <td>7.388965e-03</td>\n",
       "      <td>4.649282</td>\n",
       "      <td>0.118167</td>\n",
       "      <td>49</td>\n",
       "      <td>2</td>\n",
       "      <td>2</td>\n",
       "      <td>{'leaf_size': 49, 'n_neighbors': 2, 'p': 2}</td>\n",
       "      <td>0.919609</td>\n",
       "      <td>0.914854</td>\n",
       "      <td>0.916307</td>\n",
       "      <td>0.916924</td>\n",
       "      <td>0.001990</td>\n",
       "      <td>148</td>\n",
       "    </tr>\n",
       "  </tbody>\n",
       "</table>\n",
       "<p>196 rows × 14 columns</p>\n",
       "</div>"
      ],
      "text/plain": [
       "     mean_fit_time  std_fit_time  mean_score_time  std_score_time  \\\n",
       "0         0.043963  2.407694e-03        38.622739        0.273434   \n",
       "1         0.030330  3.612187e-03         6.291733        0.082125   \n",
       "2         0.032908  1.394589e-03        40.465817        1.534260   \n",
       "3         0.031708  4.155635e-04         7.605750        0.300992   \n",
       "4         0.056848  1.389101e-02        41.062613        0.672075   \n",
       "..             ...           ...              ...             ...   \n",
       "191       0.028922  4.899036e-07         4.059015        0.019229   \n",
       "192       0.029254  4.699655e-04        25.680059        0.447979   \n",
       "193       0.030585  2.350783e-03         4.088066        0.058907   \n",
       "194       0.029255  4.701341e-04        23.420421        0.214299   \n",
       "195       0.040226  7.388965e-03         4.649282        0.118167   \n",
       "\n",
       "    param_leaf_size param_n_neighbors param_p  \\\n",
       "0                 1                 1       1   \n",
       "1                 1                 1       2   \n",
       "2                 1                 2       1   \n",
       "3                 1                 2       2   \n",
       "4                 2                 1       1   \n",
       "..              ...               ...     ...   \n",
       "191              48                 2       2   \n",
       "192              49                 1       1   \n",
       "193              49                 1       2   \n",
       "194              49                 2       1   \n",
       "195              49                 2       2   \n",
       "\n",
       "                                          params  split0_test_score  \\\n",
       "0     {'leaf_size': 1, 'n_neighbors': 1, 'p': 1}           0.933050   \n",
       "1     {'leaf_size': 1, 'n_neighbors': 1, 'p': 2}           0.930324   \n",
       "2     {'leaf_size': 1, 'n_neighbors': 2, 'p': 1}           0.925062   \n",
       "3     {'leaf_size': 1, 'n_neighbors': 2, 'p': 2}           0.919609   \n",
       "4     {'leaf_size': 2, 'n_neighbors': 1, 'p': 1}           0.933050   \n",
       "..                                           ...                ...   \n",
       "191  {'leaf_size': 48, 'n_neighbors': 2, 'p': 2}           0.919609   \n",
       "192  {'leaf_size': 49, 'n_neighbors': 1, 'p': 1}           0.933050   \n",
       "193  {'leaf_size': 49, 'n_neighbors': 1, 'p': 2}           0.930324   \n",
       "194  {'leaf_size': 49, 'n_neighbors': 2, 'p': 1}           0.925062   \n",
       "195  {'leaf_size': 49, 'n_neighbors': 2, 'p': 2}           0.919609   \n",
       "\n",
       "     split1_test_score  split2_test_score  mean_test_score  std_test_score  \\\n",
       "0             0.932036           0.933363         0.932816        0.000566   \n",
       "1             0.927978           0.931334         0.929879        0.001406   \n",
       "2             0.922779           0.921506         0.923116        0.001471   \n",
       "3             0.914854           0.916307         0.916924        0.001990   \n",
       "4             0.932036           0.933363         0.932816        0.000566   \n",
       "..                 ...                ...              ...             ...   \n",
       "191           0.914854           0.916307         0.916924        0.001990   \n",
       "192           0.932036           0.933363         0.932816        0.000566   \n",
       "193           0.927978           0.931334         0.929879        0.001406   \n",
       "194           0.922779           0.921506         0.923116        0.001471   \n",
       "195           0.914854           0.916307         0.916924        0.001990   \n",
       "\n",
       "     rank_test_score  \n",
       "0                  1  \n",
       "1                 50  \n",
       "2                 99  \n",
       "3                148  \n",
       "4                  1  \n",
       "..               ...  \n",
       "191              148  \n",
       "192                1  \n",
       "193               50  \n",
       "194               99  \n",
       "195              148  \n",
       "\n",
       "[196 rows x 14 columns]"
      ]
     },
     "execution_count": 141,
     "metadata": {},
     "output_type": "execute_result"
    }
   ],
   "source": [
    "KNN_grid_search_cv = pd.DataFrame(data=best_model.cv_results_)\n",
    "KNN_grid_search_cv"
   ]
  },
  {
   "cell_type": "code",
   "execution_count": 142,
   "id": "983b8612",
   "metadata": {},
   "outputs": [],
   "source": [
    "KNN_grid_search_cv.to_csv(\"final/KNN_grid_search_cv.csv\")"
   ]
  },
  {
   "cell_type": "code",
   "execution_count": 145,
   "id": "947a39ee",
   "metadata": {},
   "outputs": [],
   "source": [
    "y_pred = Grid_best_model.predict(x_test)\n"
   ]
  },
  {
   "cell_type": "code",
   "execution_count": 146,
   "id": "19c76b93",
   "metadata": {
    "scrolled": false
   },
   "outputs": [
    {
     "name": "stdout",
     "output_type": "stream",
     "text": [
      "test accuracy score :  0.9457311918850381 %\n",
      "train accuracy score :  1.0 %\n",
      "precision score :  0.9464662878652365 %\n",
      "recall score :  0.9457340199382495 %\n",
      "Mean Squared Error :  0.2183431952662722 %\n",
      "Mean Absolute Error :  0.10828402366863905 %\n",
      "F_1 score :  <function f1_score at 0x000002E9C67869D0> %\n",
      "classification report\n",
      "              precision    recall  f1-score   support\n",
      "\n",
      "           0       0.98      0.98      0.98      2958\n",
      "           1       0.94      0.88      0.91      2958\n",
      "           2       0.98      0.98      0.98      2957\n",
      "           3       0.89      0.94      0.91      2957\n",
      "\n",
      "    accuracy                           0.95     11830\n",
      "   macro avg       0.95      0.95      0.95     11830\n",
      "weighted avg       0.95      0.95      0.95     11830\n",
      "\n",
      "Confusion Matrix\n"
     ]
    },
    {
     "data": {
      "image/png": "[encoded data removed]",
      "text/plain": [
       "<Figure size 504x432 with 2 Axes>"
      ]
     },
     "metadata": {
      "needs_background": "light"
     },
     "output_type": "display_data"
    }
   ],
   "source": [
    "test_acc_grid,train_acc_grid,precision_grid,recagrid,mse_grid,mae_grid,f1_score_grid = metric(y_test,y_pred,x_train,y_train,Grid_best_model)"
   ]
  },
  {
   "cell_type": "code",
   "execution_count": 153,
   "id": "bf0aefa4",
   "metadata": {},
   "outputs": [],
   "source": [
    "grid_params = { 'n_neighbors' : [1],\n",
    "               'weights' : ['uniform','distance'],\n",
    "               'metric' : ['minkowski','euclidean','manhattan']}\n",
    "gs = GridSearchCV(KNeighborsClassifier(leaf_size=1,n_neighbors=1,p=1), grid_params, verbose = 1, cv=3, n_jobs = -1)"
   ]
  },
  {
   "cell_type": "code",
   "execution_count": 154,
   "id": "b5f33b57",
   "metadata": {},
   "outputs": [
    {
     "name": "stdout",
     "output_type": "stream",
     "text": [
      "Fitting 3 folds for each of 6 candidates, totalling 18 fits\n"
     ]
    }
   ],
   "source": [
    "g_res = gs.fit(x_train, y_train)"
   ]
  },
  {
   "cell_type": "code",
   "execution_count": 155,
   "id": "d0471fb1",
   "metadata": {},
   "outputs": [
    {
     "data": {
      "text/plain": [
       "0.9328162759762808"
      ]
     },
     "execution_count": 155,
     "metadata": {},
     "output_type": "execute_result"
    }
   ],
   "source": [
    "g_res.best_score_"
   ]
  },
  {
   "cell_type": "code",
   "execution_count": 156,
   "id": "f911ed56",
   "metadata": {},
   "outputs": [
    {
     "data": {
      "text/plain": [
       "{'metric': 'minkowski', 'n_neighbors': 1, 'weights': 'uniform'}"
      ]
     },
     "execution_count": 156,
     "metadata": {},
     "output_type": "execute_result"
    }
   ],
   "source": [
    "g_res.best_params_"
   ]
  },
  {
   "cell_type": "code",
   "execution_count": 157,
   "id": "6d772180",
   "metadata": {},
   "outputs": [
    {
     "data": {
      "text/html": [
       "<style>#sk-container-id-5 {color: black;background-color: white;}#sk-container-id-5 pre{padding: 0;}#sk-container-id-5 div.sk-toggleable {background-color: white;}#sk-container-id-5 label.sk-toggleable__label {cursor: pointer;display: block;width: 100%;margin-bottom: 0;padding: 0.3em;box-sizing: border-box;text-align: center;}#sk-container-id-5 label.sk-toggleable__label-arrow:before {content: \"▸\";float: left;margin-right: 0.25em;color: #696969;}#sk-container-id-5 label.sk-toggleable__label-arrow:hover:before {color: black;}#sk-container-id-5 div.sk-estimator:hover label.sk-toggleable__label-arrow:before {color: black;}#sk-container-id-5 div.sk-toggleable__content {max-height: 0;max-width: 0;overflow: hidden;text-align: left;background-color: #f0f8ff;}#sk-container-id-5 div.sk-toggleable__content pre {margin: 0.2em;color: black;border-radius: 0.25em;background-color: #f0f8ff;}#sk-container-id-5 input.sk-toggleable__control:checked~div.sk-toggleable__content {max-height: 200px;max-width: 100%;overflow: auto;}#sk-container-id-5 input.sk-toggleable__control:checked~label.sk-toggleable__label-arrow:before {content: \"▾\";}#sk-container-id-5 div.sk-estimator input.sk-toggleable__control:checked~label.sk-toggleable__label {background-color: #d4ebff;}#sk-container-id-5 div.sk-label input.sk-toggleable__control:checked~label.sk-toggleable__label {background-color: #d4ebff;}#sk-container-id-5 input.sk-hidden--visually {border: 0;clip: rect(1px 1px 1px 1px);clip: rect(1px, 1px, 1px, 1px);height: 1px;margin: -1px;overflow: hidden;padding: 0;position: absolute;width: 1px;}#sk-container-id-5 div.sk-estimator {font-family: monospace;background-color: #f0f8ff;border: 1px dotted black;border-radius: 0.25em;box-sizing: border-box;margin-bottom: 0.5em;}#sk-container-id-5 div.sk-estimator:hover {background-color: #d4ebff;}#sk-container-id-5 div.sk-parallel-item::after {content: \"\";width: 100%;border-bottom: 1px solid gray;flex-grow: 1;}#sk-container-id-5 div.sk-label:hover label.sk-toggleable__label {background-color: #d4ebff;}#sk-container-id-5 div.sk-serial::before {content: \"\";position: absolute;border-left: 1px solid gray;box-sizing: border-box;top: 0;bottom: 0;left: 50%;z-index: 0;}#sk-container-id-5 div.sk-serial {display: flex;flex-direction: column;align-items: center;background-color: white;padding-right: 0.2em;padding-left: 0.2em;position: relative;}#sk-container-id-5 div.sk-item {position: relative;z-index: 1;}#sk-container-id-5 div.sk-parallel {display: flex;align-items: stretch;justify-content: center;background-color: white;position: relative;}#sk-container-id-5 div.sk-item::before, #sk-container-id-5 div.sk-parallel-item::before {content: \"\";position: absolute;border-left: 1px solid gray;box-sizing: border-box;top: 0;bottom: 0;left: 50%;z-index: -1;}#sk-container-id-5 div.sk-parallel-item {display: flex;flex-direction: column;z-index: 1;position: relative;background-color: white;}#sk-container-id-5 div.sk-parallel-item:first-child::after {align-self: flex-end;width: 50%;}#sk-container-id-5 div.sk-parallel-item:last-child::after {align-self: flex-start;width: 50%;}#sk-container-id-5 div.sk-parallel-item:only-child::after {width: 0;}#sk-container-id-5 div.sk-dashed-wrapped {border: 1px dashed gray;margin: 0 0.4em 0.5em 0.4em;box-sizing: border-box;padding-bottom: 0.4em;background-color: white;}#sk-container-id-5 div.sk-label label {font-family: monospace;font-weight: bold;display: inline-block;line-height: 1.2em;}#sk-container-id-5 div.sk-label-container {text-align: center;}#sk-container-id-5 div.sk-container {/* jupyter's `normalize.less` sets `[hidden] { display: none; }` but bootstrap.min.css set `[hidden] { display: none !important; }` so we also need the `!important` here to be able to override the default hidden behavior on the sphinx rendered scikit-learn.org. See: https://github.com/scikit-learn/scikit-learn/issues/21755 */display: inline-block !important;position: relative;}#sk-container-id-5 div.sk-text-repr-fallback {display: none;}</style><div id=\"sk-container-id-5\" class=\"sk-top-container\"><div class=\"sk-text-repr-fallback\"><pre>KNeighborsClassifier(algorithm=&#x27;brute&#x27;, leaf_size=1, n_neighbors=1, p=1)</pre><b>In a Jupyter environment, please rerun this cell to show the HTML representation or trust the notebook. <br />On GitHub, the HTML representation is unable to render, please try loading this page with nbviewer.org.</b></div><div class=\"sk-container\" hidden><div class=\"sk-item\"><div class=\"sk-estimator sk-toggleable\"><input class=\"sk-toggleable__control sk-hidden--visually\" id=\"sk-estimator-id-5\" type=\"checkbox\" checked><label for=\"sk-estimator-id-5\" class=\"sk-toggleable__label sk-toggleable__label-arrow\">KNeighborsClassifier</label><div class=\"sk-toggleable__content\"><pre>KNeighborsClassifier(algorithm=&#x27;brute&#x27;, leaf_size=1, n_neighbors=1, p=1)</pre></div></div></div></div></div>"
      ],
      "text/plain": [
       "KNeighborsClassifier(algorithm='brute', leaf_size=1, n_neighbors=1, p=1)"
      ]
     },
     "execution_count": 157,
     "metadata": {},
     "output_type": "execute_result"
    }
   ],
   "source": [
    "knn_2 = KNeighborsClassifier(n_neighbors = 1, weights = 'uniform',algorithm = 'brute',metric = 'minkowski',leaf_size=1,p=1)\n",
    "knn_2.fit(x_train, y_train)"
   ]
  },
  {
   "cell_type": "code",
   "execution_count": 163,
   "id": "8e6ae25e",
   "metadata": {},
   "outputs": [],
   "source": [
    "y_pred_2 = knn_2.predict(x_test)"
   ]
  },
  {
   "cell_type": "code",
   "execution_count": 164,
   "id": "ee2cc66a",
   "metadata": {
    "scrolled": false
   },
   "outputs": [
    {
     "name": "stdout",
     "output_type": "stream",
     "text": [
      "test accuracy score :  0.9457311918850381 %\n",
      "train accuracy score :  1.0 %\n",
      "precision score :  0.9464662878652365 %\n",
      "recall score :  0.9457340199382495 %\n",
      "Mean Squared Error :  0.2183431952662722 %\n",
      "Mean Absolute Error :  0.10828402366863905 %\n",
      "F_1 score :  <function f1_score at 0x000002E9C67869D0> %\n",
      "classification report\n",
      "              precision    recall  f1-score   support\n",
      "\n",
      "           0       0.98      0.98      0.98      2958\n",
      "           1       0.94      0.88      0.91      2958\n",
      "           2       0.98      0.98      0.98      2957\n",
      "           3       0.89      0.94      0.91      2957\n",
      "\n",
      "    accuracy                           0.95     11830\n",
      "   macro avg       0.95      0.95      0.95     11830\n",
      "weighted avg       0.95      0.95      0.95     11830\n",
      "\n",
      "Confusion Matrix\n"
     ]
    },
    {
     "data": {
      "image/png": "[encoded data removed]",
      "text/plain": [
       "<Figure size 504x432 with 2 Axes>"
      ]
     },
     "metadata": {
      "needs_background": "light"
     },
     "output_type": "display_data"
    }
   ],
   "source": [
    "test_acc_grid_knn_2,train_acc_grid_knn_2,precision_grid_knn_2,recagrid_knn_2,mse_grid_knn_2,mae_grid_knn_2,f1_score_grid_knn_2 = metric(y_test,y_pred_2,x_train,y_train,knn_2)"
   ]
  },
  {
   "cell_type": "code",
   "execution_count": null,
   "id": "ad1dcdca",
   "metadata": {},
   "outputs": [],
   "source": []
  }
 ],
 "metadata": {
  "colab": {
   "collapsed_sections": [],
   "name": "Step_By_Step_DataPreprocessing.ipynb",
   "provenance": []
  },
  "kernelspec": {
   "display_name": "Python 3 (ipykernel)",
   "language": "python",
   "name": "python3"
  },
  "language_info": {
   "codemirror_mode": {
    "name": "ipython",
    "version": 3
   },
   "file_extension": ".py",
   "mimetype": "text/x-python",
   "name": "python",
   "nbconvert_exporter": "python",
   "pygments_lexer": "ipython3",
   "version": "3.9.12"
  }
 },
 "nbformat": 4,
 "nbformat_minor": 5
}
